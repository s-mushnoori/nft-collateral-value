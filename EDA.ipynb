{
 "cells": [
  {
   "cell_type": "markdown",
   "id": "b7190abd",
   "metadata": {},
   "source": [
    "# Table of Contents\n",
    "\n",
    "#### 1. Import Packages\n",
    "\n",
    "\n",
    "#### 2. Read and Explore Data\n",
    "\n",
    "    2.1 Explore Cryptopunks Dataset\n",
    "    \n",
    "    2.2 Explore BAYC Dataset\n",
    "    \n",
    "    2.3 Explore MAYC Dataset\n",
    "    \n",
    "    2.4 Explore WOW Dataset\n",
    "    \n",
    "    2.5 Observations\n",
    "    \n",
    "    2.6 Next steps\n",
    "    \n",
    "\n",
    "#### 3. Clean Dataset\n",
    "\n",
    "#### 4. Create Dataset to Calculate Collateral Value\n",
    "    \n",
    "    4.1 Create final datasets\n",
    "\n",
    "#### 5. Explore Final Datasets\n",
    "\n",
    "#### 6. Calculate Collateral Value\n",
    "\n",
    "#### 7. Visualize Collateral Value"
   ]
  },
  {
   "cell_type": "markdown",
   "id": "2af3a21d",
   "metadata": {},
   "source": [
    "# 1. Import Packages"
   ]
  },
  {
   "cell_type": "code",
   "execution_count": 1,
   "id": "a2e4cb81",
   "metadata": {},
   "outputs": [],
   "source": [
    "import numpy as np\n",
    "import pandas as pd\n",
    "import matplotlib.pyplot as plt\n",
    "import seaborn as sns\n",
    "%matplotlib inline\n",
    "\n",
    "from IPython.display import display \n",
    "\n",
    "import warnings\n",
    "warnings.filterwarnings('ignore')"
   ]
  },
  {
   "cell_type": "markdown",
   "id": "aa162426",
   "metadata": {},
   "source": [
    "# 2. Read and Explore Data"
   ]
  },
  {
   "cell_type": "code",
   "execution_count": 2,
   "id": "6f642ca3",
   "metadata": {},
   "outputs": [],
   "source": [
    "def get_data(file_name):\n",
    "    return pd.read_csv(f\"Data/{file_name}.csv\")\n",
    "\n",
    "    \n",
    "df_cryptopunks = get_data(\"cryptopunks_data\")\n",
    "df_bayc = get_data(\"bayc_data\")\n",
    "df_mayc = get_data(\"mayc_data\")\n",
    "df_wow = get_data(\"wow_data\")"
   ]
  },
  {
   "cell_type": "code",
   "execution_count": 3,
   "id": "330eccad",
   "metadata": {},
   "outputs": [],
   "source": [
    "dataset_list = [\n",
    "    df_cryptopunks,\n",
    "    df_bayc,\n",
    "    df_mayc,\n",
    "    df_wow\n",
    "]"
   ]
  },
  {
   "cell_type": "code",
   "execution_count": 4,
   "id": "a4272607",
   "metadata": {},
   "outputs": [],
   "source": [
    "def get_info(dataset):\n",
    "\n",
    "    # Take a look at the dataset and the size of the dataset\n",
    "    \n",
    "    display(dataset.head())\n",
    "    display(dataset.shape)\n",
    "    \n",
    "    \n",
    "    # Find the number of missing values in the dataset\n",
    "    \n",
    "    missing_values = pd.DataFrame(dataset.isnull().sum())\n",
    "    missing_percent = pd.DataFrame(missing_values/len(dataset)*100)\n",
    "    missing = pd.concat([missing_values, missing_percent], axis=1)\n",
    "    missing.columns = ['Missing values', '%']\n",
    "    missing = missing.sort_values(by='Missing values', ascending=False)\n",
    "    display(missing[missing['Missing values'] > 0])\n"
   ]
  },
  {
   "cell_type": "markdown",
   "id": "2213e29f",
   "metadata": {},
   "source": [
    "### 2.1 Explore Cryptopunks Dataset"
   ]
  },
  {
   "cell_type": "code",
   "execution_count": 5,
   "id": "ce42cf1d",
   "metadata": {},
   "outputs": [
    {
     "data": {
      "text/html": [
       "<div>\n",
       "<style scoped>\n",
       "    .dataframe tbody tr th:only-of-type {\n",
       "        vertical-align: middle;\n",
       "    }\n",
       "\n",
       "    .dataframe tbody tr th {\n",
       "        vertical-align: top;\n",
       "    }\n",
       "\n",
       "    .dataframe thead th {\n",
       "        text-align: right;\n",
       "    }\n",
       "</style>\n",
       "<table border=\"1\" class=\"dataframe\">\n",
       "  <thead>\n",
       "    <tr style=\"text-align: right;\">\n",
       "      <th></th>\n",
       "      <th>buyer_address</th>\n",
       "      <th>eth_price</th>\n",
       "      <th>usd_price</th>\n",
       "      <th>seller_address</th>\n",
       "      <th>day</th>\n",
       "      <th>utc_timestamp</th>\n",
       "      <th>token_id</th>\n",
       "      <th>transaction_hash</th>\n",
       "      <th>name</th>\n",
       "      <th>wrapped_punk</th>\n",
       "    </tr>\n",
       "  </thead>\n",
       "  <tbody>\n",
       "    <tr>\n",
       "      <th>0</th>\n",
       "      <td>0x91338ccfb8c0adb7756034a82008531d7713009d</td>\n",
       "      <td>59.90</td>\n",
       "      <td>194171.84</td>\n",
       "      <td>0x1593110441ab4c5f2c133f21b0743b2b43e297cb</td>\n",
       "      <td>01/14/22</td>\n",
       "      <td>01/14/22</td>\n",
       "      <td>1139</td>\n",
       "      <td>0x5f9f302686a496329d589882b177cfc5f2c3d1ab0e7f...</td>\n",
       "      <td>CryptoPunk #1139</td>\n",
       "      <td>False</td>\n",
       "    </tr>\n",
       "    <tr>\n",
       "      <th>1</th>\n",
       "      <td>0xafa796c9de9b22b46f0dc1922fe017582c5e10b5</td>\n",
       "      <td>63.95</td>\n",
       "      <td>207300.32</td>\n",
       "      <td>0x1919db36ca2fa2e15f9000fd9cdc2edcf863e685</td>\n",
       "      <td>01/14/22</td>\n",
       "      <td>01/14/22</td>\n",
       "      <td>3874</td>\n",
       "      <td>0x06d78978e335a6f3e2e3495bba34a162fcb5b17310a9...</td>\n",
       "      <td>CryptoPunk #3874</td>\n",
       "      <td>False</td>\n",
       "    </tr>\n",
       "    <tr>\n",
       "      <th>2</th>\n",
       "      <td>0x0000000000000000000000000000000000000000</td>\n",
       "      <td>50.00</td>\n",
       "      <td>162080.00</td>\n",
       "      <td>0xad4fa8a3af05080e6970aca4768d2be5f213c62d</td>\n",
       "      <td>01/14/22</td>\n",
       "      <td>01/14/22</td>\n",
       "      <td>7969</td>\n",
       "      <td>0x443a2efe5b9a64e36ff3f017c23dc48fede6cf0f9ffd...</td>\n",
       "      <td>CryptoPunk #7969</td>\n",
       "      <td>False</td>\n",
       "    </tr>\n",
       "    <tr>\n",
       "      <th>3</th>\n",
       "      <td>0x3e8faf5b3a4ef575a329f8c976ff27f286ab2643</td>\n",
       "      <td>67.95</td>\n",
       "      <td>220266.72</td>\n",
       "      <td>0x44a3ccddccae339d05200a8f4347f83a58847e52</td>\n",
       "      <td>01/14/22</td>\n",
       "      <td>01/14/22</td>\n",
       "      <td>5231</td>\n",
       "      <td>0x41d38012499bd318835c35c89d9568793de0889e2962...</td>\n",
       "      <td>CryptoPunk #5231</td>\n",
       "      <td>False</td>\n",
       "    </tr>\n",
       "    <tr>\n",
       "      <th>4</th>\n",
       "      <td>0x0000000000000000000000000000000000000000</td>\n",
       "      <td>59.00</td>\n",
       "      <td>191254.40</td>\n",
       "      <td>0xfe31364ef9e04775be662eb9e112c752bad04760</td>\n",
       "      <td>01/14/22</td>\n",
       "      <td>01/14/22</td>\n",
       "      <td>3193</td>\n",
       "      <td>0x5b6a81a42cb2dfd7662b0282d7d23465c628f2329a21...</td>\n",
       "      <td>CryptoPunk #3193</td>\n",
       "      <td>False</td>\n",
       "    </tr>\n",
       "  </tbody>\n",
       "</table>\n",
       "</div>"
      ],
      "text/plain": [
       "                                buyer_address  eth_price  usd_price  \\\n",
       "0  0x91338ccfb8c0adb7756034a82008531d7713009d      59.90  194171.84   \n",
       "1  0xafa796c9de9b22b46f0dc1922fe017582c5e10b5      63.95  207300.32   \n",
       "2  0x0000000000000000000000000000000000000000      50.00  162080.00   \n",
       "3  0x3e8faf5b3a4ef575a329f8c976ff27f286ab2643      67.95  220266.72   \n",
       "4  0x0000000000000000000000000000000000000000      59.00  191254.40   \n",
       "\n",
       "                               seller_address       day utc_timestamp  \\\n",
       "0  0x1593110441ab4c5f2c133f21b0743b2b43e297cb  01/14/22      01/14/22   \n",
       "1  0x1919db36ca2fa2e15f9000fd9cdc2edcf863e685  01/14/22      01/14/22   \n",
       "2  0xad4fa8a3af05080e6970aca4768d2be5f213c62d  01/14/22      01/14/22   \n",
       "3  0x44a3ccddccae339d05200a8f4347f83a58847e52  01/14/22      01/14/22   \n",
       "4  0xfe31364ef9e04775be662eb9e112c752bad04760  01/14/22      01/14/22   \n",
       "\n",
       "   token_id                                   transaction_hash  \\\n",
       "0      1139  0x5f9f302686a496329d589882b177cfc5f2c3d1ab0e7f...   \n",
       "1      3874  0x06d78978e335a6f3e2e3495bba34a162fcb5b17310a9...   \n",
       "2      7969  0x443a2efe5b9a64e36ff3f017c23dc48fede6cf0f9ffd...   \n",
       "3      5231  0x41d38012499bd318835c35c89d9568793de0889e2962...   \n",
       "4      3193  0x5b6a81a42cb2dfd7662b0282d7d23465c628f2329a21...   \n",
       "\n",
       "               name  wrapped_punk  \n",
       "0  CryptoPunk #1139         False  \n",
       "1  CryptoPunk #3874         False  \n",
       "2  CryptoPunk #7969         False  \n",
       "3  CryptoPunk #5231         False  \n",
       "4  CryptoPunk #3193         False  "
      ]
     },
     "metadata": {},
     "output_type": "display_data"
    },
    {
     "data": {
      "text/plain": [
       "(19920, 10)"
      ]
     },
     "metadata": {},
     "output_type": "display_data"
    },
    {
     "data": {
      "text/html": [
       "<div>\n",
       "<style scoped>\n",
       "    .dataframe tbody tr th:only-of-type {\n",
       "        vertical-align: middle;\n",
       "    }\n",
       "\n",
       "    .dataframe tbody tr th {\n",
       "        vertical-align: top;\n",
       "    }\n",
       "\n",
       "    .dataframe thead th {\n",
       "        text-align: right;\n",
       "    }\n",
       "</style>\n",
       "<table border=\"1\" class=\"dataframe\">\n",
       "  <thead>\n",
       "    <tr style=\"text-align: right;\">\n",
       "      <th></th>\n",
       "      <th>Missing values</th>\n",
       "      <th>%</th>\n",
       "    </tr>\n",
       "  </thead>\n",
       "  <tbody>\n",
       "    <tr>\n",
       "      <th>buyer_address</th>\n",
       "      <td>3818</td>\n",
       "      <td>19.166667</td>\n",
       "    </tr>\n",
       "    <tr>\n",
       "      <th>seller_address</th>\n",
       "      <td>3818</td>\n",
       "      <td>19.166667</td>\n",
       "    </tr>\n",
       "  </tbody>\n",
       "</table>\n",
       "</div>"
      ],
      "text/plain": [
       "                Missing values          %\n",
       "buyer_address             3818  19.166667\n",
       "seller_address            3818  19.166667"
      ]
     },
     "metadata": {},
     "output_type": "display_data"
    }
   ],
   "source": [
    "get_info(df_cryptopunks)"
   ]
  },
  {
   "cell_type": "markdown",
   "id": "bc83291d",
   "metadata": {},
   "source": [
    "### 2.2 Explore BAYC Dataset"
   ]
  },
  {
   "cell_type": "code",
   "execution_count": 6,
   "id": "378ada47",
   "metadata": {},
   "outputs": [
    {
     "data": {
      "text/html": [
       "<div>\n",
       "<style scoped>\n",
       "    .dataframe tbody tr th:only-of-type {\n",
       "        vertical-align: middle;\n",
       "    }\n",
       "\n",
       "    .dataframe tbody tr th {\n",
       "        vertical-align: top;\n",
       "    }\n",
       "\n",
       "    .dataframe thead th {\n",
       "        text-align: right;\n",
       "    }\n",
       "</style>\n",
       "<table border=\"1\" class=\"dataframe\">\n",
       "  <thead>\n",
       "    <tr style=\"text-align: right;\">\n",
       "      <th></th>\n",
       "      <th>BLOCK_TIMESTAMP</th>\n",
       "      <th>EVENT_FROM</th>\n",
       "      <th>EVENT_TO</th>\n",
       "      <th>PRICE</th>\n",
       "      <th>PROJECT_NAME</th>\n",
       "      <th>TOKEN_ID</th>\n",
       "      <th>TX_CURRENCY</th>\n",
       "      <th>TX_ID</th>\n",
       "    </tr>\n",
       "  </thead>\n",
       "  <tbody>\n",
       "    <tr>\n",
       "      <th>0</th>\n",
       "      <td>2022-01-29 23:56:48.000</td>\n",
       "      <td>0x2de14db256db2597fe3c8eed46ef5b20ba390823</td>\n",
       "      <td>0x262d90cd5432611e826c12efc85c6c0c778263e2</td>\n",
       "      <td>100.00</td>\n",
       "      <td>BoredApeYachtClub</td>\n",
       "      <td>8978</td>\n",
       "      <td>ETH</td>\n",
       "      <td>0x36ff2116e52b9c658a3884a5a5ddf9bf531e790d6420...</td>\n",
       "    </tr>\n",
       "    <tr>\n",
       "      <th>1</th>\n",
       "      <td>2022-01-25 00:14:14.000</td>\n",
       "      <td>0xd35b392b385acad197e1b89c69cb7cca7e762f99</td>\n",
       "      <td>0x0ed1e02164a2a9fad7a9f9b5b9e71694c3fad7f2</td>\n",
       "      <td>100.69</td>\n",
       "      <td>BoredApeYachtClub</td>\n",
       "      <td>6624</td>\n",
       "      <td>ETH</td>\n",
       "      <td>0xad375b8ecabe60127d5f150ababbc61172f4f59122df...</td>\n",
       "    </tr>\n",
       "    <tr>\n",
       "      <th>2</th>\n",
       "      <td>2022-01-24 23:48:17.000</td>\n",
       "      <td>0xb47c728345b07028371b187cb4413cc977c23e95</td>\n",
       "      <td>0x13c463daa4aaf5c0872a8764228d356ba1eab332</td>\n",
       "      <td>97.00</td>\n",
       "      <td>BoredApeYachtClub</td>\n",
       "      <td>7389</td>\n",
       "      <td>ETH</td>\n",
       "      <td>0xbe01ac7b95e7ca1b1243497c0a381652d5b6fce39d9b...</td>\n",
       "    </tr>\n",
       "    <tr>\n",
       "      <th>3</th>\n",
       "      <td>2022-01-24 23:25:09.000</td>\n",
       "      <td>0x1254958bd5073c6b238e516298f0c48f6f60a78e</td>\n",
       "      <td>0xa4c16f05f3be2661245103bfb4082733d0fe8098</td>\n",
       "      <td>96.69</td>\n",
       "      <td>BoredApeYachtClub</td>\n",
       "      <td>6792</td>\n",
       "      <td>ETH</td>\n",
       "      <td>0xe3687c848beeec3dfcf31a228b12d9832691de837536...</td>\n",
       "    </tr>\n",
       "    <tr>\n",
       "      <th>4</th>\n",
       "      <td>2022-01-24 23:10:18.000</td>\n",
       "      <td>0x9d9869566ed468aa73627ebe3bfb02a84e9e5e76</td>\n",
       "      <td>0x539c82d5cb886c94dd3e2d76dd5c73936c1cf391</td>\n",
       "      <td>98.00</td>\n",
       "      <td>BoredApeYachtClub</td>\n",
       "      <td>5554</td>\n",
       "      <td>ETH</td>\n",
       "      <td>0xd9b4b619b419fcafb7a4594315c1c114be3d6e758df5...</td>\n",
       "    </tr>\n",
       "  </tbody>\n",
       "</table>\n",
       "</div>"
      ],
      "text/plain": [
       "           BLOCK_TIMESTAMP                                  EVENT_FROM  \\\n",
       "0  2022-01-29 23:56:48.000  0x2de14db256db2597fe3c8eed46ef5b20ba390823   \n",
       "1  2022-01-25 00:14:14.000  0xd35b392b385acad197e1b89c69cb7cca7e762f99   \n",
       "2  2022-01-24 23:48:17.000  0xb47c728345b07028371b187cb4413cc977c23e95   \n",
       "3  2022-01-24 23:25:09.000  0x1254958bd5073c6b238e516298f0c48f6f60a78e   \n",
       "4  2022-01-24 23:10:18.000  0x9d9869566ed468aa73627ebe3bfb02a84e9e5e76   \n",
       "\n",
       "                                     EVENT_TO   PRICE       PROJECT_NAME  \\\n",
       "0  0x262d90cd5432611e826c12efc85c6c0c778263e2  100.00  BoredApeYachtClub   \n",
       "1  0x0ed1e02164a2a9fad7a9f9b5b9e71694c3fad7f2  100.69  BoredApeYachtClub   \n",
       "2  0x13c463daa4aaf5c0872a8764228d356ba1eab332   97.00  BoredApeYachtClub   \n",
       "3  0xa4c16f05f3be2661245103bfb4082733d0fe8098   96.69  BoredApeYachtClub   \n",
       "4  0x539c82d5cb886c94dd3e2d76dd5c73936c1cf391   98.00  BoredApeYachtClub   \n",
       "\n",
       "   TOKEN_ID TX_CURRENCY                                              TX_ID  \n",
       "0      8978         ETH  0x36ff2116e52b9c658a3884a5a5ddf9bf531e790d6420...  \n",
       "1      6624         ETH  0xad375b8ecabe60127d5f150ababbc61172f4f59122df...  \n",
       "2      7389         ETH  0xbe01ac7b95e7ca1b1243497c0a381652d5b6fce39d9b...  \n",
       "3      6792         ETH  0xe3687c848beeec3dfcf31a228b12d9832691de837536...  \n",
       "4      5554         ETH  0xd9b4b619b419fcafb7a4594315c1c114be3d6e758df5...  "
      ]
     },
     "metadata": {},
     "output_type": "display_data"
    },
    {
     "data": {
      "text/plain": [
       "(24061, 8)"
      ]
     },
     "metadata": {},
     "output_type": "display_data"
    },
    {
     "data": {
      "text/html": [
       "<div>\n",
       "<style scoped>\n",
       "    .dataframe tbody tr th:only-of-type {\n",
       "        vertical-align: middle;\n",
       "    }\n",
       "\n",
       "    .dataframe tbody tr th {\n",
       "        vertical-align: top;\n",
       "    }\n",
       "\n",
       "    .dataframe thead th {\n",
       "        text-align: right;\n",
       "    }\n",
       "</style>\n",
       "<table border=\"1\" class=\"dataframe\">\n",
       "  <thead>\n",
       "    <tr style=\"text-align: right;\">\n",
       "      <th></th>\n",
       "      <th>Missing values</th>\n",
       "      <th>%</th>\n",
       "    </tr>\n",
       "  </thead>\n",
       "  <tbody>\n",
       "    <tr>\n",
       "      <th>PRICE</th>\n",
       "      <td>41</td>\n",
       "      <td>0.1704</td>\n",
       "    </tr>\n",
       "    <tr>\n",
       "      <th>TX_CURRENCY</th>\n",
       "      <td>41</td>\n",
       "      <td>0.1704</td>\n",
       "    </tr>\n",
       "  </tbody>\n",
       "</table>\n",
       "</div>"
      ],
      "text/plain": [
       "             Missing values       %\n",
       "PRICE                    41  0.1704\n",
       "TX_CURRENCY              41  0.1704"
      ]
     },
     "metadata": {},
     "output_type": "display_data"
    }
   ],
   "source": [
    "get_info(df_bayc)"
   ]
  },
  {
   "cell_type": "markdown",
   "id": "9a7f26ca",
   "metadata": {},
   "source": [
    "### 2.3 Explore MAYC Dataset"
   ]
  },
  {
   "cell_type": "code",
   "execution_count": 7,
   "id": "22917f9c",
   "metadata": {},
   "outputs": [
    {
     "data": {
      "text/html": [
       "<div>\n",
       "<style scoped>\n",
       "    .dataframe tbody tr th:only-of-type {\n",
       "        vertical-align: middle;\n",
       "    }\n",
       "\n",
       "    .dataframe tbody tr th {\n",
       "        vertical-align: top;\n",
       "    }\n",
       "\n",
       "    .dataframe thead th {\n",
       "        text-align: right;\n",
       "    }\n",
       "</style>\n",
       "<table border=\"1\" class=\"dataframe\">\n",
       "  <thead>\n",
       "    <tr style=\"text-align: right;\">\n",
       "      <th></th>\n",
       "      <th>BLOCK_TIMESTAMP</th>\n",
       "      <th>EVENT_FROM</th>\n",
       "      <th>EVENT_TO</th>\n",
       "      <th>PRICE</th>\n",
       "      <th>PROJECT_NAME</th>\n",
       "      <th>TOKEN_ID</th>\n",
       "      <th>TX_CURRENCY</th>\n",
       "      <th>TX_ID</th>\n",
       "    </tr>\n",
       "  </thead>\n",
       "  <tbody>\n",
       "    <tr>\n",
       "      <th>0</th>\n",
       "      <td>2022-01-31 09:28:16.000</td>\n",
       "      <td>0x9b628095d191ae097127b5a442463596b9a62600</td>\n",
       "      <td>0x960f16fff5070555c0efa22f6b839ed7d5ab6094</td>\n",
       "      <td>25.690</td>\n",
       "      <td>MutantApeYachtClub</td>\n",
       "      <td>2442</td>\n",
       "      <td>ETH</td>\n",
       "      <td>0xb72d00a8de8bc04fd56ed34a397ddc2dad78a1d52860...</td>\n",
       "    </tr>\n",
       "    <tr>\n",
       "      <th>1</th>\n",
       "      <td>2022-01-30 09:01:01.000</td>\n",
       "      <td>0xf542443cd8f4b18578aa7f2b647676a9c41914b3</td>\n",
       "      <td>0xd3ebefbe301f3890f402dd5014f21adf91ab10ab</td>\n",
       "      <td>26.500</td>\n",
       "      <td>MutantApeYachtClub</td>\n",
       "      <td>6169</td>\n",
       "      <td>ETH</td>\n",
       "      <td>0x3d80b7194d709bbf9e3f171247cb1f6783cc7cfd72f2...</td>\n",
       "    </tr>\n",
       "    <tr>\n",
       "      <th>2</th>\n",
       "      <td>2022-01-25 18:56:14.000</td>\n",
       "      <td>0x28705f64c07079822c7afd66e43975b7c6095ef6</td>\n",
       "      <td>0x2a5311721ea95faa9c807876301c0f76ae13f9cc</td>\n",
       "      <td>16.850</td>\n",
       "      <td>MutantApeYachtClub</td>\n",
       "      <td>25744</td>\n",
       "      <td>ETH</td>\n",
       "      <td>0x07e4abe9eca8128d93a38f15e556e4c4288b85f605d6...</td>\n",
       "    </tr>\n",
       "    <tr>\n",
       "      <th>3</th>\n",
       "      <td>2022-01-25 00:40:24.000</td>\n",
       "      <td>0x8bdacff8423837792a98f1664debbe02051a8a78</td>\n",
       "      <td>0x56691e56f68a610897ef1790accf7c882abec581</td>\n",
       "      <td>17.987</td>\n",
       "      <td>MutantApeYachtClub</td>\n",
       "      <td>8</td>\n",
       "      <td>ETH</td>\n",
       "      <td>0x28c0b7b6f4b119c5ca656e8fece9f38f7425820a1b1d...</td>\n",
       "    </tr>\n",
       "    <tr>\n",
       "      <th>4</th>\n",
       "      <td>2022-01-25 00:28:29.000</td>\n",
       "      <td>0xc5079ba412cd806e36481c4c25c17d2a25e52e37</td>\n",
       "      <td>0x8a2cea182c174bd242b3c02cf550c4d412c026fd</td>\n",
       "      <td>16.700</td>\n",
       "      <td>MutantApeYachtClub</td>\n",
       "      <td>15688</td>\n",
       "      <td>ETH</td>\n",
       "      <td>0x77bc180c2a9d1d7d84ef9cce4e3a0ae88631527cfaba...</td>\n",
       "    </tr>\n",
       "  </tbody>\n",
       "</table>\n",
       "</div>"
      ],
      "text/plain": [
       "           BLOCK_TIMESTAMP                                  EVENT_FROM  \\\n",
       "0  2022-01-31 09:28:16.000  0x9b628095d191ae097127b5a442463596b9a62600   \n",
       "1  2022-01-30 09:01:01.000  0xf542443cd8f4b18578aa7f2b647676a9c41914b3   \n",
       "2  2022-01-25 18:56:14.000  0x28705f64c07079822c7afd66e43975b7c6095ef6   \n",
       "3  2022-01-25 00:40:24.000  0x8bdacff8423837792a98f1664debbe02051a8a78   \n",
       "4  2022-01-25 00:28:29.000  0xc5079ba412cd806e36481c4c25c17d2a25e52e37   \n",
       "\n",
       "                                     EVENT_TO   PRICE        PROJECT_NAME  \\\n",
       "0  0x960f16fff5070555c0efa22f6b839ed7d5ab6094  25.690  MutantApeYachtClub   \n",
       "1  0xd3ebefbe301f3890f402dd5014f21adf91ab10ab  26.500  MutantApeYachtClub   \n",
       "2  0x2a5311721ea95faa9c807876301c0f76ae13f9cc  16.850  MutantApeYachtClub   \n",
       "3  0x56691e56f68a610897ef1790accf7c882abec581  17.987  MutantApeYachtClub   \n",
       "4  0x8a2cea182c174bd242b3c02cf550c4d412c026fd  16.700  MutantApeYachtClub   \n",
       "\n",
       "   TOKEN_ID TX_CURRENCY                                              TX_ID  \n",
       "0      2442         ETH  0xb72d00a8de8bc04fd56ed34a397ddc2dad78a1d52860...  \n",
       "1      6169         ETH  0x3d80b7194d709bbf9e3f171247cb1f6783cc7cfd72f2...  \n",
       "2     25744         ETH  0x07e4abe9eca8128d93a38f15e556e4c4288b85f605d6...  \n",
       "3         8         ETH  0x28c0b7b6f4b119c5ca656e8fece9f38f7425820a1b1d...  \n",
       "4     15688         ETH  0x77bc180c2a9d1d7d84ef9cce4e3a0ae88631527cfaba...  "
      ]
     },
     "metadata": {},
     "output_type": "display_data"
    },
    {
     "data": {
      "text/plain": [
       "(23489, 8)"
      ]
     },
     "metadata": {},
     "output_type": "display_data"
    },
    {
     "data": {
      "text/html": [
       "<div>\n",
       "<style scoped>\n",
       "    .dataframe tbody tr th:only-of-type {\n",
       "        vertical-align: middle;\n",
       "    }\n",
       "\n",
       "    .dataframe tbody tr th {\n",
       "        vertical-align: top;\n",
       "    }\n",
       "\n",
       "    .dataframe thead th {\n",
       "        text-align: right;\n",
       "    }\n",
       "</style>\n",
       "<table border=\"1\" class=\"dataframe\">\n",
       "  <thead>\n",
       "    <tr style=\"text-align: right;\">\n",
       "      <th></th>\n",
       "      <th>Missing values</th>\n",
       "      <th>%</th>\n",
       "    </tr>\n",
       "  </thead>\n",
       "  <tbody>\n",
       "    <tr>\n",
       "      <th>PRICE</th>\n",
       "      <td>83</td>\n",
       "      <td>0.353357</td>\n",
       "    </tr>\n",
       "    <tr>\n",
       "      <th>TX_CURRENCY</th>\n",
       "      <td>83</td>\n",
       "      <td>0.353357</td>\n",
       "    </tr>\n",
       "  </tbody>\n",
       "</table>\n",
       "</div>"
      ],
      "text/plain": [
       "             Missing values         %\n",
       "PRICE                    83  0.353357\n",
       "TX_CURRENCY              83  0.353357"
      ]
     },
     "metadata": {},
     "output_type": "display_data"
    }
   ],
   "source": [
    "get_info(df_mayc)"
   ]
  },
  {
   "cell_type": "markdown",
   "id": "faac955b",
   "metadata": {},
   "source": [
    "### 2.4 Explore WOW Dataset"
   ]
  },
  {
   "cell_type": "code",
   "execution_count": 8,
   "id": "f1637a75",
   "metadata": {},
   "outputs": [
    {
     "data": {
      "text/html": [
       "<div>\n",
       "<style scoped>\n",
       "    .dataframe tbody tr th:only-of-type {\n",
       "        vertical-align: middle;\n",
       "    }\n",
       "\n",
       "    .dataframe tbody tr th {\n",
       "        vertical-align: top;\n",
       "    }\n",
       "\n",
       "    .dataframe thead th {\n",
       "        text-align: right;\n",
       "    }\n",
       "</style>\n",
       "<table border=\"1\" class=\"dataframe\">\n",
       "  <thead>\n",
       "    <tr style=\"text-align: right;\">\n",
       "      <th></th>\n",
       "      <th>BLOCK_TIMESTAMP</th>\n",
       "      <th>EVENT_FROM</th>\n",
       "      <th>EVENT_TO</th>\n",
       "      <th>PRICE</th>\n",
       "      <th>PROJECT_NAME</th>\n",
       "      <th>TOKEN_ID</th>\n",
       "      <th>TX_CURRENCY</th>\n",
       "      <th>TX_ID</th>\n",
       "    </tr>\n",
       "  </thead>\n",
       "  <tbody>\n",
       "    <tr>\n",
       "      <th>0</th>\n",
       "      <td>2022-01-25 00:48:37.000</td>\n",
       "      <td>0xfd49ffbd075aaf57e7d7df2608d64ca494ffb6df</td>\n",
       "      <td>0x6a27af7f7a1d80fac6fb8f7e5cec9a88eff26ec6</td>\n",
       "      <td>37.50</td>\n",
       "      <td>World_Of_Women</td>\n",
       "      <td>9647</td>\n",
       "      <td>ETH</td>\n",
       "      <td>0xb888fa28361ed0acb53bf6ad79512ca2f7c65c97caee...</td>\n",
       "    </tr>\n",
       "    <tr>\n",
       "      <th>1</th>\n",
       "      <td>2022-01-25 00:25:03.000</td>\n",
       "      <td>0xb5cb6dba9a9ad75e2ff03d6f0253aff2cd6c5029</td>\n",
       "      <td>0x20556e46ef77fa166d27f0b701c463022b5ab83f</td>\n",
       "      <td>7.45</td>\n",
       "      <td>World_Of_Women</td>\n",
       "      <td>5559</td>\n",
       "      <td>ETH</td>\n",
       "      <td>0xe62d0f47b93cadb485487f4cae93c248cf6aa1a453fb...</td>\n",
       "    </tr>\n",
       "    <tr>\n",
       "      <th>2</th>\n",
       "      <td>2022-01-25 00:16:17.000</td>\n",
       "      <td>0xa0c9bba341881a8d8f835194745d312bb56b4284</td>\n",
       "      <td>0x20556e46ef77fa166d27f0b701c463022b5ab83f</td>\n",
       "      <td>8.00</td>\n",
       "      <td>World_Of_Women</td>\n",
       "      <td>5587</td>\n",
       "      <td>ETH</td>\n",
       "      <td>0xfe07ba2c8bfaf40fc7be93bd434b4580e1f1555d6b2f...</td>\n",
       "    </tr>\n",
       "    <tr>\n",
       "      <th>3</th>\n",
       "      <td>2022-01-24 22:56:00.000</td>\n",
       "      <td>0xaf97a78a41d1d030c89bb5e29e14ada03dc802ce</td>\n",
       "      <td>0x28ee3605321a598d716f9cdda26e226f54af9305</td>\n",
       "      <td>10.00</td>\n",
       "      <td>World_Of_Women</td>\n",
       "      <td>9362</td>\n",
       "      <td>ETH</td>\n",
       "      <td>0x07aebdbe39e346d53b326ed0a110b12bbb4b7de4a4da...</td>\n",
       "    </tr>\n",
       "    <tr>\n",
       "      <th>4</th>\n",
       "      <td>2022-01-24 22:19:04.000</td>\n",
       "      <td>0x28ee3605321a598d716f9cdda26e226f54af9305</td>\n",
       "      <td>0xaf34964b228d7c671fdac25a277f9d9a33fa9730</td>\n",
       "      <td>7.30</td>\n",
       "      <td>World_Of_Women</td>\n",
       "      <td>8766</td>\n",
       "      <td>ETH</td>\n",
       "      <td>0xcc2aa82505967604780feb0bde65b29156f32994997a...</td>\n",
       "    </tr>\n",
       "  </tbody>\n",
       "</table>\n",
       "</div>"
      ],
      "text/plain": [
       "           BLOCK_TIMESTAMP                                  EVENT_FROM  \\\n",
       "0  2022-01-25 00:48:37.000  0xfd49ffbd075aaf57e7d7df2608d64ca494ffb6df   \n",
       "1  2022-01-25 00:25:03.000  0xb5cb6dba9a9ad75e2ff03d6f0253aff2cd6c5029   \n",
       "2  2022-01-25 00:16:17.000  0xa0c9bba341881a8d8f835194745d312bb56b4284   \n",
       "3  2022-01-24 22:56:00.000  0xaf97a78a41d1d030c89bb5e29e14ada03dc802ce   \n",
       "4  2022-01-24 22:19:04.000  0x28ee3605321a598d716f9cdda26e226f54af9305   \n",
       "\n",
       "                                     EVENT_TO  PRICE    PROJECT_NAME  \\\n",
       "0  0x6a27af7f7a1d80fac6fb8f7e5cec9a88eff26ec6  37.50  World_Of_Women   \n",
       "1  0x20556e46ef77fa166d27f0b701c463022b5ab83f   7.45  World_Of_Women   \n",
       "2  0x20556e46ef77fa166d27f0b701c463022b5ab83f   8.00  World_Of_Women   \n",
       "3  0x28ee3605321a598d716f9cdda26e226f54af9305  10.00  World_Of_Women   \n",
       "4  0xaf34964b228d7c671fdac25a277f9d9a33fa9730   7.30  World_Of_Women   \n",
       "\n",
       "   TOKEN_ID TX_CURRENCY                                              TX_ID  \n",
       "0      9647         ETH  0xb888fa28361ed0acb53bf6ad79512ca2f7c65c97caee...  \n",
       "1      5559         ETH  0xe62d0f47b93cadb485487f4cae93c248cf6aa1a453fb...  \n",
       "2      5587         ETH  0xfe07ba2c8bfaf40fc7be93bd434b4580e1f1555d6b2f...  \n",
       "3      9362         ETH  0x07aebdbe39e346d53b326ed0a110b12bbb4b7de4a4da...  \n",
       "4      8766         ETH  0xcc2aa82505967604780feb0bde65b29156f32994997a...  "
      ]
     },
     "metadata": {},
     "output_type": "display_data"
    },
    {
     "data": {
      "text/plain": [
       "(20784, 8)"
      ]
     },
     "metadata": {},
     "output_type": "display_data"
    },
    {
     "data": {
      "text/html": [
       "<div>\n",
       "<style scoped>\n",
       "    .dataframe tbody tr th:only-of-type {\n",
       "        vertical-align: middle;\n",
       "    }\n",
       "\n",
       "    .dataframe tbody tr th {\n",
       "        vertical-align: top;\n",
       "    }\n",
       "\n",
       "    .dataframe thead th {\n",
       "        text-align: right;\n",
       "    }\n",
       "</style>\n",
       "<table border=\"1\" class=\"dataframe\">\n",
       "  <thead>\n",
       "    <tr style=\"text-align: right;\">\n",
       "      <th></th>\n",
       "      <th>Missing values</th>\n",
       "      <th>%</th>\n",
       "    </tr>\n",
       "  </thead>\n",
       "  <tbody>\n",
       "    <tr>\n",
       "      <th>PRICE</th>\n",
       "      <td>147</td>\n",
       "      <td>0.707275</td>\n",
       "    </tr>\n",
       "    <tr>\n",
       "      <th>TX_CURRENCY</th>\n",
       "      <td>147</td>\n",
       "      <td>0.707275</td>\n",
       "    </tr>\n",
       "  </tbody>\n",
       "</table>\n",
       "</div>"
      ],
      "text/plain": [
       "             Missing values         %\n",
       "PRICE                   147  0.707275\n",
       "TX_CURRENCY             147  0.707275"
      ]
     },
     "metadata": {},
     "output_type": "display_data"
    }
   ],
   "source": [
    "get_info(df_wow)"
   ]
  },
  {
   "cell_type": "markdown",
   "id": "132457e0",
   "metadata": {},
   "source": [
    "### 2.5 Observations:\n",
    "\n",
    "- To calculate collateral values, we just need the date and price columns\n",
    "- The Cryptopunks dataset is different from the other three\n",
    "\n",
    "### 2.6 Next steps:\n",
    "\n",
    "- Drop rows with missing values for date and price. \n",
    "    - These cannot be imputed in any meaningful way, and a very small percent of rows are missing.\n",
    "- Drop all columns except date, transaction ID, transaction price, and project name.\n",
    "    - To keep the datasets consistent, we will only consider the price in $ETH"
   ]
  },
  {
   "cell_type": "markdown",
   "id": "7c08e2a0",
   "metadata": {},
   "source": [
    "# 3. Clean Dataset\n",
    "\n",
    "- Start by changing column names and types for the Cryptopunks dataset to match the other three\n",
    "- Then, for all datasets, write a function to:\n",
    "    - Drop all columns except date, transaction price, transaction ID, and project name\n",
    "        - Project name will be useful later when we combine all the final datasets into one\n",
    "        - Transaction ID will be useful later to calculate the number of daily transactions\n",
    "    - Drop missing values\n",
    "    - Change the column type of 'day' to datetime"
   ]
  },
  {
   "cell_type": "code",
   "execution_count": 9,
   "id": "d481b9ae",
   "metadata": {},
   "outputs": [],
   "source": [
    "df_cryptopunks['PROJECT_NAME']='Cryptopunks'\n",
    "\n",
    "# Change column names for the Cryptopunks dataset\n",
    "df_cryptopunks.rename(columns={'day':'BLOCK_TIMESTAMP', 'eth_price':'PRICE', 'transaction_hash':'TX_ID'}, inplace=True)"
   ]
  },
  {
   "cell_type": "code",
   "execution_count": 10,
   "id": "c7e62441",
   "metadata": {},
   "outputs": [],
   "source": [
    "def clean_data(dataset):\n",
    "    \n",
    "    # Drop irrelevant columns\n",
    "    dataset_clean = dataset[['BLOCK_TIMESTAMP','PRICE','TX_ID', 'PROJECT_NAME']]\n",
    "    \n",
    "    # Change datatype to datetime and standardize to show only the year, month and date\n",
    "    dataset_clean['BLOCK_TIMESTAMP'] = pd.to_datetime(dataset['BLOCK_TIMESTAMP']).dt.date\n",
    "    \n",
    "    # Drop null values\n",
    "    dataset_clean.dropna(axis=0, inplace=True)\n",
    "    \n",
    "    display(dataset_clean.head())\n",
    "    display(dataset.shape)\n",
    "    \n",
    "    return dataset_clean"
   ]
  },
  {
   "cell_type": "code",
   "execution_count": 11,
   "id": "f975a830",
   "metadata": {},
   "outputs": [
    {
     "name": "stdout",
     "output_type": "stream",
     "text": [
      "\n",
      "Cryptopunks:\n"
     ]
    },
    {
     "data": {
      "text/html": [
       "<div>\n",
       "<style scoped>\n",
       "    .dataframe tbody tr th:only-of-type {\n",
       "        vertical-align: middle;\n",
       "    }\n",
       "\n",
       "    .dataframe tbody tr th {\n",
       "        vertical-align: top;\n",
       "    }\n",
       "\n",
       "    .dataframe thead th {\n",
       "        text-align: right;\n",
       "    }\n",
       "</style>\n",
       "<table border=\"1\" class=\"dataframe\">\n",
       "  <thead>\n",
       "    <tr style=\"text-align: right;\">\n",
       "      <th></th>\n",
       "      <th>BLOCK_TIMESTAMP</th>\n",
       "      <th>PRICE</th>\n",
       "      <th>TX_ID</th>\n",
       "      <th>PROJECT_NAME</th>\n",
       "    </tr>\n",
       "  </thead>\n",
       "  <tbody>\n",
       "    <tr>\n",
       "      <th>0</th>\n",
       "      <td>2022-01-14</td>\n",
       "      <td>59.90</td>\n",
       "      <td>0x5f9f302686a496329d589882b177cfc5f2c3d1ab0e7f...</td>\n",
       "      <td>Cryptopunks</td>\n",
       "    </tr>\n",
       "    <tr>\n",
       "      <th>1</th>\n",
       "      <td>2022-01-14</td>\n",
       "      <td>63.95</td>\n",
       "      <td>0x06d78978e335a6f3e2e3495bba34a162fcb5b17310a9...</td>\n",
       "      <td>Cryptopunks</td>\n",
       "    </tr>\n",
       "    <tr>\n",
       "      <th>2</th>\n",
       "      <td>2022-01-14</td>\n",
       "      <td>50.00</td>\n",
       "      <td>0x443a2efe5b9a64e36ff3f017c23dc48fede6cf0f9ffd...</td>\n",
       "      <td>Cryptopunks</td>\n",
       "    </tr>\n",
       "    <tr>\n",
       "      <th>3</th>\n",
       "      <td>2022-01-14</td>\n",
       "      <td>67.95</td>\n",
       "      <td>0x41d38012499bd318835c35c89d9568793de0889e2962...</td>\n",
       "      <td>Cryptopunks</td>\n",
       "    </tr>\n",
       "    <tr>\n",
       "      <th>4</th>\n",
       "      <td>2022-01-14</td>\n",
       "      <td>59.00</td>\n",
       "      <td>0x5b6a81a42cb2dfd7662b0282d7d23465c628f2329a21...</td>\n",
       "      <td>Cryptopunks</td>\n",
       "    </tr>\n",
       "  </tbody>\n",
       "</table>\n",
       "</div>"
      ],
      "text/plain": [
       "  BLOCK_TIMESTAMP  PRICE                                              TX_ID  \\\n",
       "0      2022-01-14  59.90  0x5f9f302686a496329d589882b177cfc5f2c3d1ab0e7f...   \n",
       "1      2022-01-14  63.95  0x06d78978e335a6f3e2e3495bba34a162fcb5b17310a9...   \n",
       "2      2022-01-14  50.00  0x443a2efe5b9a64e36ff3f017c23dc48fede6cf0f9ffd...   \n",
       "3      2022-01-14  67.95  0x41d38012499bd318835c35c89d9568793de0889e2962...   \n",
       "4      2022-01-14  59.00  0x5b6a81a42cb2dfd7662b0282d7d23465c628f2329a21...   \n",
       "\n",
       "  PROJECT_NAME  \n",
       "0  Cryptopunks  \n",
       "1  Cryptopunks  \n",
       "2  Cryptopunks  \n",
       "3  Cryptopunks  \n",
       "4  Cryptopunks  "
      ]
     },
     "metadata": {},
     "output_type": "display_data"
    },
    {
     "data": {
      "text/plain": [
       "(19920, 11)"
      ]
     },
     "metadata": {},
     "output_type": "display_data"
    },
    {
     "name": "stdout",
     "output_type": "stream",
     "text": [
      "\n",
      "BAYC:\n"
     ]
    },
    {
     "data": {
      "text/html": [
       "<div>\n",
       "<style scoped>\n",
       "    .dataframe tbody tr th:only-of-type {\n",
       "        vertical-align: middle;\n",
       "    }\n",
       "\n",
       "    .dataframe tbody tr th {\n",
       "        vertical-align: top;\n",
       "    }\n",
       "\n",
       "    .dataframe thead th {\n",
       "        text-align: right;\n",
       "    }\n",
       "</style>\n",
       "<table border=\"1\" class=\"dataframe\">\n",
       "  <thead>\n",
       "    <tr style=\"text-align: right;\">\n",
       "      <th></th>\n",
       "      <th>BLOCK_TIMESTAMP</th>\n",
       "      <th>PRICE</th>\n",
       "      <th>TX_ID</th>\n",
       "      <th>PROJECT_NAME</th>\n",
       "    </tr>\n",
       "  </thead>\n",
       "  <tbody>\n",
       "    <tr>\n",
       "      <th>0</th>\n",
       "      <td>2022-01-29</td>\n",
       "      <td>100.00</td>\n",
       "      <td>0x36ff2116e52b9c658a3884a5a5ddf9bf531e790d6420...</td>\n",
       "      <td>BoredApeYachtClub</td>\n",
       "    </tr>\n",
       "    <tr>\n",
       "      <th>1</th>\n",
       "      <td>2022-01-25</td>\n",
       "      <td>100.69</td>\n",
       "      <td>0xad375b8ecabe60127d5f150ababbc61172f4f59122df...</td>\n",
       "      <td>BoredApeYachtClub</td>\n",
       "    </tr>\n",
       "    <tr>\n",
       "      <th>2</th>\n",
       "      <td>2022-01-24</td>\n",
       "      <td>97.00</td>\n",
       "      <td>0xbe01ac7b95e7ca1b1243497c0a381652d5b6fce39d9b...</td>\n",
       "      <td>BoredApeYachtClub</td>\n",
       "    </tr>\n",
       "    <tr>\n",
       "      <th>3</th>\n",
       "      <td>2022-01-24</td>\n",
       "      <td>96.69</td>\n",
       "      <td>0xe3687c848beeec3dfcf31a228b12d9832691de837536...</td>\n",
       "      <td>BoredApeYachtClub</td>\n",
       "    </tr>\n",
       "    <tr>\n",
       "      <th>4</th>\n",
       "      <td>2022-01-24</td>\n",
       "      <td>98.00</td>\n",
       "      <td>0xd9b4b619b419fcafb7a4594315c1c114be3d6e758df5...</td>\n",
       "      <td>BoredApeYachtClub</td>\n",
       "    </tr>\n",
       "  </tbody>\n",
       "</table>\n",
       "</div>"
      ],
      "text/plain": [
       "  BLOCK_TIMESTAMP   PRICE                                              TX_ID  \\\n",
       "0      2022-01-29  100.00  0x36ff2116e52b9c658a3884a5a5ddf9bf531e790d6420...   \n",
       "1      2022-01-25  100.69  0xad375b8ecabe60127d5f150ababbc61172f4f59122df...   \n",
       "2      2022-01-24   97.00  0xbe01ac7b95e7ca1b1243497c0a381652d5b6fce39d9b...   \n",
       "3      2022-01-24   96.69  0xe3687c848beeec3dfcf31a228b12d9832691de837536...   \n",
       "4      2022-01-24   98.00  0xd9b4b619b419fcafb7a4594315c1c114be3d6e758df5...   \n",
       "\n",
       "        PROJECT_NAME  \n",
       "0  BoredApeYachtClub  \n",
       "1  BoredApeYachtClub  \n",
       "2  BoredApeYachtClub  \n",
       "3  BoredApeYachtClub  \n",
       "4  BoredApeYachtClub  "
      ]
     },
     "metadata": {},
     "output_type": "display_data"
    },
    {
     "data": {
      "text/plain": [
       "(24061, 8)"
      ]
     },
     "metadata": {},
     "output_type": "display_data"
    },
    {
     "name": "stdout",
     "output_type": "stream",
     "text": [
      "\n",
      "MAYC:\n"
     ]
    },
    {
     "data": {
      "text/html": [
       "<div>\n",
       "<style scoped>\n",
       "    .dataframe tbody tr th:only-of-type {\n",
       "        vertical-align: middle;\n",
       "    }\n",
       "\n",
       "    .dataframe tbody tr th {\n",
       "        vertical-align: top;\n",
       "    }\n",
       "\n",
       "    .dataframe thead th {\n",
       "        text-align: right;\n",
       "    }\n",
       "</style>\n",
       "<table border=\"1\" class=\"dataframe\">\n",
       "  <thead>\n",
       "    <tr style=\"text-align: right;\">\n",
       "      <th></th>\n",
       "      <th>BLOCK_TIMESTAMP</th>\n",
       "      <th>PRICE</th>\n",
       "      <th>TX_ID</th>\n",
       "      <th>PROJECT_NAME</th>\n",
       "    </tr>\n",
       "  </thead>\n",
       "  <tbody>\n",
       "    <tr>\n",
       "      <th>0</th>\n",
       "      <td>2022-01-31</td>\n",
       "      <td>25.690</td>\n",
       "      <td>0xb72d00a8de8bc04fd56ed34a397ddc2dad78a1d52860...</td>\n",
       "      <td>MutantApeYachtClub</td>\n",
       "    </tr>\n",
       "    <tr>\n",
       "      <th>1</th>\n",
       "      <td>2022-01-30</td>\n",
       "      <td>26.500</td>\n",
       "      <td>0x3d80b7194d709bbf9e3f171247cb1f6783cc7cfd72f2...</td>\n",
       "      <td>MutantApeYachtClub</td>\n",
       "    </tr>\n",
       "    <tr>\n",
       "      <th>2</th>\n",
       "      <td>2022-01-25</td>\n",
       "      <td>16.850</td>\n",
       "      <td>0x07e4abe9eca8128d93a38f15e556e4c4288b85f605d6...</td>\n",
       "      <td>MutantApeYachtClub</td>\n",
       "    </tr>\n",
       "    <tr>\n",
       "      <th>3</th>\n",
       "      <td>2022-01-25</td>\n",
       "      <td>17.987</td>\n",
       "      <td>0x28c0b7b6f4b119c5ca656e8fece9f38f7425820a1b1d...</td>\n",
       "      <td>MutantApeYachtClub</td>\n",
       "    </tr>\n",
       "    <tr>\n",
       "      <th>4</th>\n",
       "      <td>2022-01-25</td>\n",
       "      <td>16.700</td>\n",
       "      <td>0x77bc180c2a9d1d7d84ef9cce4e3a0ae88631527cfaba...</td>\n",
       "      <td>MutantApeYachtClub</td>\n",
       "    </tr>\n",
       "  </tbody>\n",
       "</table>\n",
       "</div>"
      ],
      "text/plain": [
       "  BLOCK_TIMESTAMP   PRICE                                              TX_ID  \\\n",
       "0      2022-01-31  25.690  0xb72d00a8de8bc04fd56ed34a397ddc2dad78a1d52860...   \n",
       "1      2022-01-30  26.500  0x3d80b7194d709bbf9e3f171247cb1f6783cc7cfd72f2...   \n",
       "2      2022-01-25  16.850  0x07e4abe9eca8128d93a38f15e556e4c4288b85f605d6...   \n",
       "3      2022-01-25  17.987  0x28c0b7b6f4b119c5ca656e8fece9f38f7425820a1b1d...   \n",
       "4      2022-01-25  16.700  0x77bc180c2a9d1d7d84ef9cce4e3a0ae88631527cfaba...   \n",
       "\n",
       "         PROJECT_NAME  \n",
       "0  MutantApeYachtClub  \n",
       "1  MutantApeYachtClub  \n",
       "2  MutantApeYachtClub  \n",
       "3  MutantApeYachtClub  \n",
       "4  MutantApeYachtClub  "
      ]
     },
     "metadata": {},
     "output_type": "display_data"
    },
    {
     "data": {
      "text/plain": [
       "(23489, 8)"
      ]
     },
     "metadata": {},
     "output_type": "display_data"
    },
    {
     "name": "stdout",
     "output_type": "stream",
     "text": [
      "\n",
      "WOW:\n"
     ]
    },
    {
     "data": {
      "text/html": [
       "<div>\n",
       "<style scoped>\n",
       "    .dataframe tbody tr th:only-of-type {\n",
       "        vertical-align: middle;\n",
       "    }\n",
       "\n",
       "    .dataframe tbody tr th {\n",
       "        vertical-align: top;\n",
       "    }\n",
       "\n",
       "    .dataframe thead th {\n",
       "        text-align: right;\n",
       "    }\n",
       "</style>\n",
       "<table border=\"1\" class=\"dataframe\">\n",
       "  <thead>\n",
       "    <tr style=\"text-align: right;\">\n",
       "      <th></th>\n",
       "      <th>BLOCK_TIMESTAMP</th>\n",
       "      <th>PRICE</th>\n",
       "      <th>TX_ID</th>\n",
       "      <th>PROJECT_NAME</th>\n",
       "    </tr>\n",
       "  </thead>\n",
       "  <tbody>\n",
       "    <tr>\n",
       "      <th>0</th>\n",
       "      <td>2022-01-25</td>\n",
       "      <td>37.50</td>\n",
       "      <td>0xb888fa28361ed0acb53bf6ad79512ca2f7c65c97caee...</td>\n",
       "      <td>World_Of_Women</td>\n",
       "    </tr>\n",
       "    <tr>\n",
       "      <th>1</th>\n",
       "      <td>2022-01-25</td>\n",
       "      <td>7.45</td>\n",
       "      <td>0xe62d0f47b93cadb485487f4cae93c248cf6aa1a453fb...</td>\n",
       "      <td>World_Of_Women</td>\n",
       "    </tr>\n",
       "    <tr>\n",
       "      <th>2</th>\n",
       "      <td>2022-01-25</td>\n",
       "      <td>8.00</td>\n",
       "      <td>0xfe07ba2c8bfaf40fc7be93bd434b4580e1f1555d6b2f...</td>\n",
       "      <td>World_Of_Women</td>\n",
       "    </tr>\n",
       "    <tr>\n",
       "      <th>3</th>\n",
       "      <td>2022-01-24</td>\n",
       "      <td>10.00</td>\n",
       "      <td>0x07aebdbe39e346d53b326ed0a110b12bbb4b7de4a4da...</td>\n",
       "      <td>World_Of_Women</td>\n",
       "    </tr>\n",
       "    <tr>\n",
       "      <th>4</th>\n",
       "      <td>2022-01-24</td>\n",
       "      <td>7.30</td>\n",
       "      <td>0xcc2aa82505967604780feb0bde65b29156f32994997a...</td>\n",
       "      <td>World_Of_Women</td>\n",
       "    </tr>\n",
       "  </tbody>\n",
       "</table>\n",
       "</div>"
      ],
      "text/plain": [
       "  BLOCK_TIMESTAMP  PRICE                                              TX_ID  \\\n",
       "0      2022-01-25  37.50  0xb888fa28361ed0acb53bf6ad79512ca2f7c65c97caee...   \n",
       "1      2022-01-25   7.45  0xe62d0f47b93cadb485487f4cae93c248cf6aa1a453fb...   \n",
       "2      2022-01-25   8.00  0xfe07ba2c8bfaf40fc7be93bd434b4580e1f1555d6b2f...   \n",
       "3      2022-01-24  10.00  0x07aebdbe39e346d53b326ed0a110b12bbb4b7de4a4da...   \n",
       "4      2022-01-24   7.30  0xcc2aa82505967604780feb0bde65b29156f32994997a...   \n",
       "\n",
       "     PROJECT_NAME  \n",
       "0  World_Of_Women  \n",
       "1  World_Of_Women  \n",
       "2  World_Of_Women  \n",
       "3  World_Of_Women  \n",
       "4  World_Of_Women  "
      ]
     },
     "metadata": {},
     "output_type": "display_data"
    },
    {
     "data": {
      "text/plain": [
       "(20784, 8)"
      ]
     },
     "metadata": {},
     "output_type": "display_data"
    }
   ],
   "source": [
    "print(\"\\nCryptopunks:\")\n",
    "cryptopunks_clean = clean_data(df_cryptopunks)\n",
    "\n",
    "print(\"\\nBAYC:\")\n",
    "bayc_clean = clean_data(df_bayc)\n",
    "\n",
    "print(\"\\nMAYC:\")\n",
    "mayc_clean = clean_data(df_mayc)\n",
    "\n",
    "print(\"\\nWOW:\")\n",
    "wow_clean = clean_data(df_wow)"
   ]
  },
  {
   "cell_type": "markdown",
   "id": "55900edc",
   "metadata": {},
   "source": [
    "# 4. Create Dataset to Calculate Collateral Value\n",
    "\n",
    "- Filter out 0.15 x (Q1 of daily transactions) as per the collateral value definition\n",
    "- Calculate the number of daily transactions\n",
    "- Calculate the daily price floor\n",
    "- Create and return a new dataset with the date, daily price floor, and number of daily transactions"
   ]
  },
  {
   "cell_type": "code",
   "execution_count": 12,
   "id": "d709aeac",
   "metadata": {},
   "outputs": [],
   "source": [
    "def create_cv_dataset(dataset):\n",
    "    '''\n",
    "    Takes the original cleaned dataset and returns a new dataset with all relevant information to calculate the collateral value.\n",
    "    Note: The format of this dataset will be different from the original, so make sure to save as a different DataFrame.\n",
    "    '''\n",
    "    \n",
    "    # Figure out daily first quantile price\n",
    "    # To calculate the collateral value we will use values greater than this value\n",
    "    price_daily_q1 = dataset.groupby('BLOCK_TIMESTAMP').quantile(0.25)\n",
    "    \n",
    "    # Map this value of daily Q1 price to the date\n",
    "    mapping_date_to_q1 = price_daily_q1['PRICE'].to_dict()\n",
    "    \n",
    "    # Create a new column with the daily Q1 value for each row\n",
    "    dataset['Q1_DAILY'] = dataset['BLOCK_TIMESTAMP'].map(mapping_date_to_q1)\n",
    "    \n",
    "    # Filter out high rarity assets and wash trades\n",
    "    dataset_filtered = dataset[dataset['PRICE'] > 0.15 * dataset['Q1_DAILY']]\n",
    "    \n",
    "    # Calculate daily price floor\n",
    "    daily_price_floor =  dataset_filtered[['BLOCK_TIMESTAMP','PRICE']].groupby('BLOCK_TIMESTAMP').min()['PRICE']\n",
    "    \n",
    "    # Calculate number of daily transactions\n",
    "    daily_transactions = dataset_filtered.groupby('BLOCK_TIMESTAMP').count()['TX_ID']\n",
    "    \n",
    "    # Create new DataFrame by concatenating the date, daily price floor and daily transactions\n",
    "    final_dataset = pd.DataFrame()\n",
    "    final_dataset = pd.concat([daily_price_floor, daily_transactions], axis=1).reset_index()\n",
    "    \n",
    "    # Include project names for the final dataset. This will be useful later when the 4 datasets are combined\n",
    "    final_dataset['project_name'] = dataset_filtered['PROJECT_NAME']\n",
    "    \n",
    "    # Rename columns\n",
    "    final_dataset = final_dataset.rename(columns={\n",
    "        'BLOCK_TIMESTAMP': 'date',\n",
    "        'PRICE': 'eth_price_floor',\n",
    "        'TX_ID': 'num_daily_transactions'\n",
    "    })\n",
    "    \n",
    "    # Add price floor = 0 and daily transactions = 0 for days when no transactions occurred\n",
    "    # This will be achieved using the following steps:\n",
    "    # Step 1: Create a new index series which contains all dates between the earliest and latest date\n",
    "    new_index = pd.date_range(final_dataset['date'].min(), final_dataset['date'].max())\n",
    "    \n",
    "    # Step 2: Temporarily set the date column as the index\n",
    "    final_dataset = final_dataset.set_index('date')\n",
    "    \n",
    "    # Step 3: Reindex the dataset with this new index series and fill in zeros for all the rows with empty values\n",
    "    final_dataset = final_dataset.reindex(new_index, fill_value=0)\n",
    "    \n",
    "    # Step 4: Reset the index and rename the column back to 'date'\n",
    "    final_dataset = final_dataset.reset_index()\n",
    "    final_dataset = final_dataset.rename(columns={'index':'date'})\n",
    "    \n",
    "    return final_dataset"
   ]
  },
  {
   "cell_type": "markdown",
   "id": "800edfae",
   "metadata": {},
   "source": [
    "### 4.1 Create final datasets"
   ]
  },
  {
   "cell_type": "code",
   "execution_count": 13,
   "id": "94f08e8b",
   "metadata": {},
   "outputs": [],
   "source": [
    "cryptopunks_cv = create_cv_dataset(cryptopunks_clean)\n",
    "bayc_cv = create_cv_dataset(bayc_clean)\n",
    "mayc_cv = create_cv_dataset(mayc_clean)\n",
    "wow_cv = create_cv_dataset(wow_clean)"
   ]
  },
  {
   "cell_type": "code",
   "execution_count": 14,
   "id": "7e14983e",
   "metadata": {},
   "outputs": [
    {
     "data": {
      "text/html": [
       "<div>\n",
       "<style scoped>\n",
       "    .dataframe tbody tr th:only-of-type {\n",
       "        vertical-align: middle;\n",
       "    }\n",
       "\n",
       "    .dataframe tbody tr th {\n",
       "        vertical-align: top;\n",
       "    }\n",
       "\n",
       "    .dataframe thead th {\n",
       "        text-align: right;\n",
       "    }\n",
       "</style>\n",
       "<table border=\"1\" class=\"dataframe\">\n",
       "  <thead>\n",
       "    <tr style=\"text-align: right;\">\n",
       "      <th></th>\n",
       "      <th>date</th>\n",
       "      <th>eth_price_floor</th>\n",
       "      <th>num_daily_transactions</th>\n",
       "      <th>project_name</th>\n",
       "    </tr>\n",
       "  </thead>\n",
       "  <tbody>\n",
       "    <tr>\n",
       "      <th>0</th>\n",
       "      <td>2017-06-23</td>\n",
       "      <td>1.000000e-02</td>\n",
       "      <td>18</td>\n",
       "      <td>Cryptopunks</td>\n",
       "    </tr>\n",
       "    <tr>\n",
       "      <th>1</th>\n",
       "      <td>2017-06-24</td>\n",
       "      <td>1.000000e-03</td>\n",
       "      <td>16</td>\n",
       "      <td>Cryptopunks</td>\n",
       "    </tr>\n",
       "    <tr>\n",
       "      <th>2</th>\n",
       "      <td>2017-06-25</td>\n",
       "      <td>1.000000e-01</td>\n",
       "      <td>12</td>\n",
       "      <td>Cryptopunks</td>\n",
       "    </tr>\n",
       "    <tr>\n",
       "      <th>3</th>\n",
       "      <td>2017-06-26</td>\n",
       "      <td>1.000000e-06</td>\n",
       "      <td>5</td>\n",
       "      <td>Cryptopunks</td>\n",
       "    </tr>\n",
       "    <tr>\n",
       "      <th>4</th>\n",
       "      <td>2017-06-27</td>\n",
       "      <td>1.000000e-18</td>\n",
       "      <td>23</td>\n",
       "      <td>Cryptopunks</td>\n",
       "    </tr>\n",
       "  </tbody>\n",
       "</table>\n",
       "</div>"
      ],
      "text/plain": [
       "        date  eth_price_floor  num_daily_transactions project_name\n",
       "0 2017-06-23     1.000000e-02                      18  Cryptopunks\n",
       "1 2017-06-24     1.000000e-03                      16  Cryptopunks\n",
       "2 2017-06-25     1.000000e-01                      12  Cryptopunks\n",
       "3 2017-06-26     1.000000e-06                       5  Cryptopunks\n",
       "4 2017-06-27     1.000000e-18                      23  Cryptopunks"
      ]
     },
     "execution_count": 14,
     "metadata": {},
     "output_type": "execute_result"
    }
   ],
   "source": [
    "cryptopunks_cv.head()"
   ]
  },
  {
   "cell_type": "markdown",
   "id": "7fd2b1f8",
   "metadata": {},
   "source": [
    "# 5. Explore Final Datasets"
   ]
  },
  {
   "cell_type": "markdown",
   "id": "f530a50d",
   "metadata": {},
   "source": [
    "As an example, the cryptopunks dataset now has 1210 rows, but if we calculate the maximum vs. minimum date values, we should in fact have 1666 days (1667 including the first day). Shown below are the rows before adding in dates with zero transactions"
   ]
  },
  {
   "cell_type": "code",
   "execution_count": 15,
   "id": "c34f0856",
   "metadata": {},
   "outputs": [],
   "source": [
    "#cryptopunks_cv.shape\n",
    "#>>> Output: (1210, 5)\n",
    "\n",
    "#cryptopunks_cv['date'].max() - cryptopunks_cv['date'].min()\n",
    "#>>> Output: datetime.timedelta(days=1666)"
   ]
  },
  {
   "cell_type": "markdown",
   "id": "3ac4ab73",
   "metadata": {},
   "source": [
    "- This tells us that there were days when there were no transactions\n",
    "- To correctly calculate the moving average, we will have to input these dates and set the price floor and daily transactions to zero\n",
    "- Go back to the function above to add these changes"
   ]
  },
  {
   "cell_type": "code",
   "execution_count": 16,
   "id": "4e88812f",
   "metadata": {},
   "outputs": [
    {
     "data": {
      "text/plain": [
       "(1667, 4)"
      ]
     },
     "execution_count": 16,
     "metadata": {},
     "output_type": "execute_result"
    }
   ],
   "source": [
    "cryptopunks_cv.shape"
   ]
  },
  {
   "cell_type": "markdown",
   "id": "22981f70",
   "metadata": {},
   "source": [
    "# 6. Calculate Collateral Value"
   ]
  },
  {
   "cell_type": "code",
   "execution_count": 17,
   "id": "4e1c0826",
   "metadata": {},
   "outputs": [],
   "source": [
    "def calculate_cv(dataset):\n",
    "    '''\n",
    "    Calculates the collateral value for each date and creates a new column with the calculated values\n",
    "    '''\n",
    "    \n",
    "    # Calculate the numerator and create a columm\n",
    "    dataset['numerator'] = dataset['eth_price_floor'] * dataset['num_daily_transactions']\n",
    "    \n",
    "    # Create a blank column to store the collateral values\n",
    "    dataset['collateral_value'] = np.nan\n",
    "    \n",
    "    # n_day_avg refers to the type of moving average\n",
    "    # In this case, n_day_avg = 30 will use the 30 day moving average to calculate CV\n",
    "    n_day_avg = 30\n",
    "    \n",
    "    # Calculate collateral value\n",
    "    for i in range(n_day_avg, len(dataset)+1):\n",
    "        starting_row = i - n_day_avg     # First day of moving avg calculation\n",
    "        ending_row = i - 1               # Last day of moving avg calculation\n",
    "        dataset['collateral_value'].loc[i] = dataset['numerator'].loc[starting_row:ending_row].sum() / dataset['num_daily_transactions'].loc[starting_row:ending_row].sum()\n",
    "        \n",
    "    return dataset"
   ]
  },
  {
   "cell_type": "code",
   "execution_count": 25,
   "id": "00e6e4c6",
   "metadata": {
    "scrolled": true
   },
   "outputs": [],
   "source": [
    "# Calculate collateral values\n",
    "\n",
    "cryptopunks_cv = calculate_cv(cryptopunks_cv)\n",
    "bayc_cv = calculate_cv(bayc_cv)\n",
    "mayc_cv = calculate_cv(mayc_cv)\n",
    "wow_cv = calculate_cv(wow_cv)\n",
    "\n",
    "# Combine datasets\n",
    "dataset_list_cv = [\n",
    "    cryptopunks_cv,\n",
    "    bayc_cv,\n",
    "    mayc_cv,\n",
    "    wow_cv\n",
    "]\n",
    "\n",
    "\n",
    "df_combined = pd.concat(dataset_list_cv)"
   ]
  },
  {
   "cell_type": "markdown",
   "id": "27268cf9",
   "metadata": {},
   "source": [
    "# 7. Visualize Collateral Values"
   ]
  },
  {
   "cell_type": "code",
   "execution_count": 19,
   "id": "69e6e15b",
   "metadata": {},
   "outputs": [],
   "source": [
    "def visualize_cv(dataset):\n",
    "    sns.set_style('whitegrid')\n",
    "    plt.figure(figsize = (8, 8))\n",
    "    sns.lineplot(x='date', y='collateral_value', data=dataset)\n",
    "    plt.xlabel('\\nDate', fontsize=15)\n",
    "    plt.xticks(rotation=45, fontsize=12)\n",
    "    plt.ylabel('Collateral Value (Eth)', fontsize=14)"
   ]
  },
  {
   "cell_type": "code",
   "execution_count": 20,
   "id": "fd77f838",
   "metadata": {},
   "outputs": [
    {
     "data": {
      "image/png": "[encoded data removed]",
      "text/plain": [
       "<Figure size 576x576 with 1 Axes>"
      ]
     },
     "metadata": {},
     "output_type": "display_data"
    }
   ],
   "source": [
    "visualize_cv(cryptopunks_cv)"
   ]
  },
  {
   "cell_type": "code",
   "execution_count": 21,
   "id": "6bee43cc",
   "metadata": {},
   "outputs": [
    {
     "data": {
      "image/png": "[encoded data removed]",
      "text/plain": [
       "<Figure size 576x576 with 1 Axes>"
      ]
     },
     "metadata": {},
     "output_type": "display_data"
    }
   ],
   "source": [
    "visualize_cv(bayc_cv)"
   ]
  },
  {
   "cell_type": "code",
   "execution_count": 22,
   "id": "f3a4b0d4",
   "metadata": {},
   "outputs": [
    {
     "data": {
      "image/png": "[encoded data removed]",
      "text/plain": [
       "<Figure size 576x576 with 1 Axes>"
      ]
     },
     "metadata": {},
     "output_type": "display_data"
    }
   ],
   "source": [
    "visualize_cv(mayc_cv)"
   ]
  },
  {
   "cell_type": "code",
   "execution_count": 23,
   "id": "63db13db",
   "metadata": {},
   "outputs": [
    {
     "data": {
      "image/png": "[encoded data removed]",
      "text/plain": [
       "<Figure size 576x576 with 1 Axes>"
      ]
     },
     "metadata": {},
     "output_type": "display_data"
    }
   ],
   "source": [
    "visualize_cv(wow_cv)"
   ]
  }
 ],
 "metadata": {
  "kernelspec": {
   "display_name": "Python 3",
   "language": "python",
   "name": "python3"
  },
  "language_info": {
   "codemirror_mode": {
    "name": "ipython",
    "version": 3
   },
   "file_extension": ".py",
   "mimetype": "text/x-python",
   "name": "python",
   "nbconvert_exporter": "python",
   "pygments_lexer": "ipython3",
   "version": "3.8.8"
  }
 },
 "nbformat": 4,
 "nbformat_minor": 5
}
